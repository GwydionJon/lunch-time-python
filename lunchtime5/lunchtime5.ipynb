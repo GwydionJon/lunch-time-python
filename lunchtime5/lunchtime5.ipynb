{
 "cells": [
  {
   "cell_type": "markdown",
   "id": "5c38b984",
   "metadata": {
    "slideshow": {
     "slide_type": "slide"
    }
   },
   "source": [
    "# Lunchtime #5: Pillow"
   ]
  },
  {
   "cell_type": "markdown",
   "id": "2a92f58d",
   "metadata": {
    "slideshow": {
     "slide_type": "fragment"
    }
   },
   "source": [
    "\n",
    "## Why using Python for image processing?\n",
    "\n",
    "* Easy automation of image processing (compared to GUIs)\n",
    "* High-Level interfaces usable without very deep knowledge of image formats\n",
    "* Easy integration with other Python-based tools for e.g.\n",
    "    * Image Analysis\n",
    "    * Web Scraping\n",
    "    * ML/AI"
   ]
  },
  {
   "cell_type": "markdown",
   "id": "4449fa48",
   "metadata": {
    "slideshow": {
     "slide_type": "slide"
    }
   },
   "source": [
    "## Pillow is *the friendly fork* of PIL, the Python Imaging Library:\n",
    "\n",
    "* PIL is/was the state-of-the-art library for image processing in Python\n",
    "* Had several issues caused by the project maintenance:\n",
    "    * Compatibility issues with standard installation procedures\n",
    "    * Missing open community work for issues, contributions etc.\n",
    "    * Sustainability issues due to missing Continuous Integration\n",
    "* Pillow has stepped in, PIL had its last release in 2009"
   ]
  },
  {
   "cell_type": "markdown",
   "id": "5dd2d13c",
   "metadata": {
    "slideshow": {
     "slide_type": "slide"
    }
   },
   "source": [
    "## The Basics: Loading an image\n",
    "We import `Image` from the `PIL` package:"
   ]
  },
  {
   "cell_type": "code",
   "execution_count": null,
   "id": "ae957fe6",
   "metadata": {
    "slideshow": {
     "slide_type": "fragment"
    }
   },
   "outputs": [],
   "source": [
    "from PIL import Image"
   ]
  },
  {
   "cell_type": "markdown",
   "id": "62b85bb5",
   "metadata": {
    "slideshow": {
     "slide_type": "fragment"
    }
   },
   "source": [
    "We can open an image from disk by using `open`:"
   ]
  },
  {
   "cell_type": "code",
   "execution_count": null,
   "id": "494b09a1",
   "metadata": {
    "slideshow": {
     "slide_type": "fragment"
    }
   },
   "outputs": [],
   "source": [
    "if \"google.colab\" in str(get_ipython()):\n",
    "    !wget https://ssciwr.github.io/lunch-time-python/lunchtime5/thingstaette.png -q\n",
    "img = Image.open(\"thingstaette.png\")"
   ]
  },
  {
   "cell_type": "markdown",
   "id": "bf3463f4",
   "metadata": {
    "slideshow": {
     "slide_type": "fragment"
    }
   },
   "source": [
    "The image is represented using the `Image` class from PIL (or one of its specialized subclasses). Images can be created by loading from file, from other images or programmatically."
   ]
  },
  {
   "cell_type": "markdown",
   "id": "4afae7e5",
   "metadata": {
    "slideshow": {
     "slide_type": "slide"
    }
   },
   "source": [
    "The `img` object can be queried for a number of metadata fields of the image:"
   ]
  },
  {
   "cell_type": "code",
   "execution_count": null,
   "id": "608b6c56",
   "metadata": {
    "slideshow": {
     "slide_type": "fragment"
    }
   },
   "outputs": [],
   "source": [
    "img.format"
   ]
  },
  {
   "cell_type": "code",
   "execution_count": null,
   "id": "4a4e4b60",
   "metadata": {
    "slideshow": {
     "slide_type": "fragment"
    }
   },
   "outputs": [],
   "source": [
    "img.size"
   ]
  },
  {
   "cell_type": "code",
   "execution_count": null,
   "id": "86371f2a",
   "metadata": {
    "slideshow": {
     "slide_type": "fragment"
    }
   },
   "outputs": [],
   "source": [
    "img.width, img.height"
   ]
  },
  {
   "cell_type": "code",
   "execution_count": null,
   "id": "555f990e",
   "metadata": {
    "slideshow": {
     "slide_type": "fragment"
    }
   },
   "outputs": [],
   "source": [
    "img.mode"
   ]
  },
  {
   "cell_type": "code",
   "execution_count": null,
   "id": "dcd1a300",
   "metadata": {
    "slideshow": {
     "slide_type": "fragment"
    }
   },
   "outputs": [],
   "source": [
    "img.getbands()"
   ]
  },
  {
   "cell_type": "markdown",
   "id": "44cc3cc2",
   "metadata": {
    "slideshow": {
     "slide_type": "slide"
    }
   },
   "source": [
    "## Visualizing images in Jupyter"
   ]
  },
  {
   "cell_type": "markdown",
   "id": "3a2867f1",
   "metadata": {
    "slideshow": {
     "slide_type": "fragment"
    }
   },
   "source": [
    "To display the image directly in Jupyter notebooks, we can use the `IPython`'s rich display system. Alternatively, `img.show()` can open the image in an external viewer."
   ]
  },
  {
   "cell_type": "code",
   "execution_count": null,
   "id": "51d3bcee",
   "metadata": {
    "slideshow": {
     "slide_type": "subslide"
    }
   },
   "outputs": [],
   "source": [
    "img"
   ]
  },
  {
   "cell_type": "markdown",
   "id": "82fa0ded",
   "metadata": {
    "slideshow": {
     "slide_type": "slide"
    }
   },
   "source": [
    "## Modifying images\n",
    "\n",
    "Image modifications operate on one image and return a new image which is a copy of the original with the applied modifications. This is common (good) practice in object-oriented programming."
   ]
  },
  {
   "cell_type": "markdown",
   "id": "34c6bdfd",
   "metadata": {
    "slideshow": {
     "slide_type": "slide"
    }
   },
   "source": [
    "## Cropping"
   ]
  },
  {
   "cell_type": "code",
   "execution_count": null,
   "id": "419b0934",
   "metadata": {
    "slideshow": {
     "slide_type": "fragment"
    }
   },
   "outputs": [],
   "source": [
    "cropped = img.crop([330, 100, 650, 550])"
   ]
  },
  {
   "cell_type": "code",
   "execution_count": null,
   "id": "ae931949",
   "metadata": {
    "slideshow": {
     "slide_type": "fragment"
    }
   },
   "outputs": [],
   "source": [
    "cropped"
   ]
  },
  {
   "cell_type": "markdown",
   "id": "0af0de22",
   "metadata": {
    "slideshow": {
     "slide_type": "slide"
    }
   },
   "source": [
    "## Resizing"
   ]
  },
  {
   "cell_type": "code",
   "execution_count": null,
   "id": "80f43963",
   "metadata": {
    "slideshow": {
     "slide_type": "fragment"
    }
   },
   "outputs": [],
   "source": [
    "resized = cropped.reduce(2)\n",
    "# resized = cropped.resize((150, 100))"
   ]
  },
  {
   "cell_type": "code",
   "execution_count": null,
   "id": "029ae231",
   "metadata": {
    "slideshow": {
     "slide_type": "fragment"
    }
   },
   "outputs": [],
   "source": [
    "resized"
   ]
  },
  {
   "cell_type": "markdown",
   "id": "59f6fd90",
   "metadata": {
    "slideshow": {
     "slide_type": "slide"
    }
   },
   "source": [
    "## Transforming"
   ]
  },
  {
   "cell_type": "code",
   "execution_count": null,
   "id": "f4d086f1",
   "metadata": {
    "slideshow": {
     "slide_type": "fragment"
    }
   },
   "outputs": [],
   "source": [
    "rotated = resized.rotate(180)"
   ]
  },
  {
   "cell_type": "code",
   "execution_count": null,
   "id": "0f17e6b4",
   "metadata": {
    "slideshow": {
     "slide_type": "fragment"
    }
   },
   "outputs": [],
   "source": [
    "rotated"
   ]
  },
  {
   "cell_type": "markdown",
   "id": "4ae575d6",
   "metadata": {
    "slideshow": {
     "slide_type": "slide"
    }
   },
   "source": [
    "## Applying filters"
   ]
  },
  {
   "cell_type": "code",
   "execution_count": null,
   "id": "1795f613",
   "metadata": {
    "slideshow": {
     "slide_type": "fragment"
    }
   },
   "outputs": [],
   "source": [
    "from PIL import ImageFilter"
   ]
  },
  {
   "cell_type": "code",
   "execution_count": null,
   "id": "7597aeb9",
   "metadata": {
    "slideshow": {
     "slide_type": "fragment"
    }
   },
   "outputs": [],
   "source": [
    "blurred = rotated.filter(ImageFilter.BLUR)"
   ]
  },
  {
   "cell_type": "code",
   "execution_count": null,
   "id": "f751ec49",
   "metadata": {
    "slideshow": {
     "slide_type": "fragment"
    }
   },
   "outputs": [],
   "source": [
    "blurred"
   ]
  },
  {
   "cell_type": "markdown",
   "id": "088136ff",
   "metadata": {
    "slideshow": {
     "slide_type": "slide"
    }
   },
   "source": [
    "## Merging\n",
    "\n",
    "Merging is done as an in-place operation on the `Image` object:"
   ]
  },
  {
   "cell_type": "code",
   "execution_count": null,
   "id": "cab82272",
   "metadata": {
    "slideshow": {
     "slide_type": "fragment"
    }
   },
   "outputs": [],
   "source": [
    "img.paste(rotated, (100, 100))"
   ]
  },
  {
   "cell_type": "code",
   "execution_count": null,
   "id": "1df51081",
   "metadata": {
    "slideshow": {
     "slide_type": "fragment"
    }
   },
   "outputs": [],
   "source": [
    "img"
   ]
  },
  {
   "cell_type": "markdown",
   "id": "e95edf85",
   "metadata": {
    "slideshow": {
     "slide_type": "slide"
    }
   },
   "source": [
    "## Saving Images\n",
    "\n",
    "After successful transformation, we can save the result.\n",
    "\n",
    "* Output format deduced from given file extension\n",
    "* Alternatively passed explicitly\n",
    "* Format conversion implemented by `PIL`\n",
    "* Some formats require certain conditions on the data"
   ]
  },
  {
   "cell_type": "code",
   "execution_count": null,
   "id": "bfd553f3",
   "metadata": {
    "slideshow": {
     "slide_type": "slide"
    }
   },
   "outputs": [],
   "source": [
    "converted = img.convert(\"RGB\")"
   ]
  },
  {
   "cell_type": "code",
   "execution_count": null,
   "id": "045169e2",
   "metadata": {
    "slideshow": {
     "slide_type": "fragment"
    }
   },
   "outputs": [],
   "source": [
    "converted.getbands()"
   ]
  },
  {
   "cell_type": "code",
   "execution_count": null,
   "id": "cf0091e2",
   "metadata": {
    "slideshow": {
     "slide_type": "fragment"
    }
   },
   "outputs": [],
   "source": [
    "converted.save(\"final.jpg\")"
   ]
  },
  {
   "cell_type": "markdown",
   "id": "24f1b232",
   "metadata": {
    "slideshow": {
     "slide_type": "slide"
    }
   },
   "source": [
    "## Further information\n",
    "\n",
    "Pillow has much more functionality than shown here today, check the examples and references in its documentation:\n",
    "\n",
    "[https://pillow.readthedocs.io](https://pillow.readthedocs.io)\n"
   ]
  },
  {
   "cell_type": "markdown",
   "id": "d1b69ceb",
   "metadata": {
    "slideshow": {
     "slide_type": "fragment"
    }
   },
   "source": [
    "Thanks for joining!"
   ]
  }
 ],
 "metadata": {
  "celltoolbar": "Slideshow",
  "kernelspec": {
   "display_name": "Python 3 (ipykernel)",
   "language": "python",
   "name": "python3"
  },
  "language_info": {
   "codemirror_mode": {
    "name": "ipython",
    "version": 3
   },
   "file_extension": ".py",
   "mimetype": "text/x-python",
   "name": "python",
   "nbconvert_exporter": "python",
   "pygments_lexer": "ipython3",
   "version": "3.9.4"
  }
 },
 "nbformat": 4,
 "nbformat_minor": 5
}

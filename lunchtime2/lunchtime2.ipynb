{
 "cells": [
  {
   "cell_type": "markdown",
   "id": "f6779729",
   "metadata": {
    "slideshow": {
     "slide_type": "slide"
    }
   },
   "source": [
    "# Lunch Time Python\n",
    "\n",
    "## Lunch 2: SymPy\n",
    "\n",
    "<img style=\"float: right;\" src=\"https://live.sympy.org/static-66/images/logo.png\">\n",
    "\n",
    "[SymPy](https://www.sympy.org/) is a Python library for symbolic mathematics.\n",
    "It can parse mathematical expressions, substitute, differentiate, integrate and evaluate them, as well as solve algebraic and differential equations.\n",
    "It is also itself written entirely in Python, with a focus keeping the code comprehensible and easily extensible.\n",
    "There is also a related project [SymEngine](https://github.com/symengine/symengine.py),\n",
    "which is written in C++ with a focus on speed, which offers a much faster implementation of a subset of SymPy's functionality.\n",
    "\n",
    "*Press `Spacebar` to go to the next slide (or `?` to see all navigation shortcuts)*\n",
    "\n",
    "[Lunch Time Python](https://ssciwr.github.io/lunch-time-python/), [Scientific Software Center](https://ssc.iwr.uni-heidelberg.de), [Heidelberg University](https://www.uni-heidelberg.de/)"
   ]
  },
  {
   "cell_type": "markdown",
   "id": "fbb627b9",
   "metadata": {
    "slideshow": {
     "slide_type": "subslide"
    }
   },
   "source": [
    "# SymPy Installation\n",
    "\n",
    "- Anaconda: pre-installed\n",
    "- Conda: `conda install sympy`\n",
    "- Pip: `python -m pip install sympy`\n",
    "\n",
    "Or try it out online:\n",
    "\n",
    "- [live.sympy.org](https://live.sympy.org/)\n",
    "  - online python shell with SymPy installed\n",
    "- [sympygamma.com](https://www.sympygamma.com/input/?i=cos%28x%29)\n",
    "  - SymPy powered web app similar to [Wolfram|Alpha](https://www.wolframalpha.com/)\n",
    "- [this notebook on binder](https://mybinder.org/v2/gh/ssciwr/lunch-time-python.git/HEAD?labpath=lunchtime2%2Flunchtime2.ipynb)\n",
    "  - interactive version of this notebook on binder\n"
   ]
  },
  {
   "cell_type": "markdown",
   "id": "f7646cab",
   "metadata": {
    "slideshow": {
     "slide_type": "slide"
    }
   },
   "source": [
    "# Symbols\n",
    "\n",
    "- basic building block of expressions\n",
    "- `sympy.symbols`\n",
    "  - takes a string of variable names separated by spaces\n",
    "  - returns a tuple of Symbol objects, one for each name\n",
    "  - usually a good idea to use the same name for the Python object, but you don't have to"
   ]
  },
  {
   "cell_type": "code",
   "execution_count": null,
   "id": "94c44344",
   "metadata": {
    "slideshow": {
     "slide_type": "subslide"
    }
   },
   "outputs": [],
   "source": [
    "import sympy as sp\n",
    "\n",
    "# Define a single symbol x named 'x':\n",
    "\n",
    "x = sp.symbols(\"x\")"
   ]
  },
  {
   "cell_type": "code",
   "execution_count": null,
   "id": "92c9f2fd",
   "metadata": {
    "slideshow": {
     "slide_type": "fragment"
    }
   },
   "outputs": [],
   "source": [
    "x"
   ]
  },
  {
   "cell_type": "code",
   "execution_count": null,
   "id": "137e707b",
   "metadata": {
    "slideshow": {
     "slide_type": "fragment"
    }
   },
   "outputs": [],
   "source": [
    "type(x)"
   ]
  },
  {
   "cell_type": "code",
   "execution_count": null,
   "id": "92cc4b08",
   "metadata": {
    "slideshow": {
     "slide_type": "subslide"
    }
   },
   "outputs": [],
   "source": [
    "# Define multiple symbols at once:\n",
    "\n",
    "y, z, t, nu = sp.symbols(\"y z t nu\")"
   ]
  },
  {
   "cell_type": "code",
   "execution_count": null,
   "id": "dcb2c24c",
   "metadata": {
    "slideshow": {
     "slide_type": "fragment"
    }
   },
   "outputs": [],
   "source": [
    "# Can use different name for symbol & object (not recommended!)\n",
    "\n",
    "confusing = sp.symbols(\"alpha\")\n",
    "print(confusing)"
   ]
  },
  {
   "cell_type": "markdown",
   "id": "7f3b2d72",
   "metadata": {
    "slideshow": {
     "slide_type": "slide"
    }
   },
   "source": [
    "# Expressions\n",
    "\n",
    "- Symbols can be combined with the usual arithmetic operations (`+`, `-`, `*`, `/`)\n",
    "- Result is an expression\n",
    "- The type of an expression depends on the operation"
   ]
  },
  {
   "cell_type": "code",
   "execution_count": null,
   "id": "a615706f",
   "metadata": {
    "slideshow": {
     "slide_type": "fragment"
    }
   },
   "outputs": [],
   "source": [
    "expr = x + y - 2 * z"
   ]
  },
  {
   "cell_type": "code",
   "execution_count": null,
   "id": "f53a9ba7",
   "metadata": {
    "slideshow": {
     "slide_type": "fragment"
    }
   },
   "outputs": [],
   "source": [
    "expr"
   ]
  },
  {
   "cell_type": "code",
   "execution_count": null,
   "id": "8e041558",
   "metadata": {
    "slideshow": {
     "slide_type": "subslide"
    }
   },
   "outputs": [],
   "source": [
    "type(expr)"
   ]
  },
  {
   "cell_type": "code",
   "execution_count": null,
   "id": "d1ff1c9e",
   "metadata": {
    "slideshow": {
     "slide_type": "fragment"
    }
   },
   "outputs": [],
   "source": [
    "expr.args"
   ]
  },
  {
   "cell_type": "code",
   "execution_count": null,
   "id": "73fc00df",
   "metadata": {
    "slideshow": {
     "slide_type": "fragment"
    }
   },
   "outputs": [],
   "source": [
    "type(expr.args[2])"
   ]
  },
  {
   "cell_type": "code",
   "execution_count": null,
   "id": "e3157a1a",
   "metadata": {
    "slideshow": {
     "slide_type": "fragment"
    }
   },
   "outputs": [],
   "source": [
    "expr.args[2].args"
   ]
  },
  {
   "cell_type": "markdown",
   "id": "45141139",
   "metadata": {
    "slideshow": {
     "slide_type": "slide"
    }
   },
   "source": [
    "# Numbers\n",
    "\n",
    "- will automatically convert to SymPy Numbers when required\n",
    "- but take care with math only involving Python numbers!\n",
    "- sometimes an explicit conversion is helpful"
   ]
  },
  {
   "cell_type": "code",
   "execution_count": null,
   "id": "26790bad",
   "metadata": {
    "slideshow": {
     "slide_type": "subslide"
    }
   },
   "outputs": [],
   "source": [
    "x + 1"
   ]
  },
  {
   "cell_type": "code",
   "execution_count": null,
   "id": "5073445a",
   "metadata": {
    "slideshow": {
     "slide_type": "fragment"
    }
   },
   "outputs": [],
   "source": [
    "type((1 + x).args[0])"
   ]
  },
  {
   "cell_type": "code",
   "execution_count": null,
   "id": "6da326e5",
   "metadata": {
    "slideshow": {
     "slide_type": "fragment"
    }
   },
   "outputs": [],
   "source": [
    "type((123 + x).args[0])"
   ]
  },
  {
   "cell_type": "code",
   "execution_count": null,
   "id": "02c7b06e",
   "metadata": {
    "slideshow": {
     "slide_type": "subslide"
    }
   },
   "outputs": [],
   "source": [
    "# be careful with unexpected Python maths!\n",
    "x + 1 / 2"
   ]
  },
  {
   "cell_type": "code",
   "execution_count": null,
   "id": "acede52d",
   "metadata": {
    "slideshow": {
     "slide_type": "fragment"
    }
   },
   "outputs": [],
   "source": [
    "# explicit construction of Rational\n",
    "x + sp.Rational(1, 2)"
   ]
  },
  {
   "cell_type": "code",
   "execution_count": null,
   "id": "586b850f",
   "metadata": {
    "slideshow": {
     "slide_type": "fragment"
    }
   },
   "outputs": [],
   "source": [
    "# explicit construction of Integer\n",
    "x + sp.Integer(1) / 2"
   ]
  },
  {
   "cell_type": "code",
   "execution_count": null,
   "id": "7b3bb835",
   "metadata": {
    "slideshow": {
     "slide_type": "fragment"
    }
   },
   "outputs": [],
   "source": [
    "# equivalent but now all operations involve a sympy expr:\n",
    "(2 * x + 1) / 2"
   ]
  },
  {
   "cell_type": "markdown",
   "id": "0388cc2b",
   "metadata": {
    "slideshow": {
     "slide_type": "slide"
    }
   },
   "source": [
    "# Functions\n",
    "\n",
    "- `sympy.functions` contains many built-in analytic functions"
   ]
  },
  {
   "cell_type": "code",
   "execution_count": null,
   "id": "653b4094",
   "metadata": {
    "slideshow": {
     "slide_type": "fragment"
    }
   },
   "outputs": [],
   "source": [
    "expr = sp.sin(x) * sp.exp(y) + sp.gamma(t)"
   ]
  },
  {
   "cell_type": "code",
   "execution_count": null,
   "id": "859f1582",
   "metadata": {
    "slideshow": {
     "slide_type": "fragment"
    }
   },
   "outputs": [],
   "source": [
    "expr"
   ]
  },
  {
   "cell_type": "markdown",
   "id": "2aa43b10",
   "metadata": {
    "slideshow": {
     "slide_type": "slide"
    }
   },
   "source": [
    "# Substitution\n",
    "\n",
    "- evaluate an expression by substituting numbers for symbols\n",
    "- substitute sub-expressions for sub-expressions\n",
    "- `.subs` takes a list of `(old, new)` pairs"
   ]
  },
  {
   "cell_type": "code",
   "execution_count": null,
   "id": "600dad42",
   "metadata": {
    "slideshow": {
     "slide_type": "fragment"
    }
   },
   "outputs": [],
   "source": [
    "(x + 1).subs(x, 1)"
   ]
  },
  {
   "cell_type": "code",
   "execution_count": null,
   "id": "fb04a461",
   "metadata": {
    "slideshow": {
     "slide_type": "fragment"
    }
   },
   "outputs": [],
   "source": [
    "(x * sp.cos(y)).subs([(x, 1), (y, 0.2)])"
   ]
  },
  {
   "cell_type": "code",
   "execution_count": null,
   "id": "35ee404d",
   "metadata": {
    "slideshow": {
     "slide_type": "fragment"
    }
   },
   "outputs": [],
   "source": [
    "(x * y).subs(x, y**3)"
   ]
  },
  {
   "cell_type": "markdown",
   "id": "5700266b",
   "metadata": {
    "slideshow": {
     "slide_type": "slide"
    }
   },
   "source": [
    "# Parsing\n",
    "\n",
    "- `sympify` converts a string into a SymPy expression\n",
    "- existing symbols are used if the name matches\n",
    "- otherwise new symbols will be created as necessary"
   ]
  },
  {
   "cell_type": "code",
   "execution_count": null,
   "id": "cd7f50e0",
   "metadata": {
    "slideshow": {
     "slide_type": "fragment"
    }
   },
   "outputs": [],
   "source": [
    "expr = sp.sympify(\"x\")"
   ]
  },
  {
   "cell_type": "code",
   "execution_count": null,
   "id": "c64be25d",
   "metadata": {
    "slideshow": {
     "slide_type": "fragment"
    }
   },
   "outputs": [],
   "source": [
    "type(expr)"
   ]
  },
  {
   "cell_type": "code",
   "execution_count": null,
   "id": "2ddb1e68",
   "metadata": {
    "slideshow": {
     "slide_type": "fragment"
    }
   },
   "outputs": [],
   "source": [
    "expr == x"
   ]
  },
  {
   "cell_type": "code",
   "execution_count": null,
   "id": "03d038c1",
   "metadata": {
    "slideshow": {
     "slide_type": "subslide"
    }
   },
   "outputs": [],
   "source": [
    "expr = sp.sympify(\"cos(x) + a\")"
   ]
  },
  {
   "cell_type": "code",
   "execution_count": null,
   "id": "eabde6ac",
   "metadata": {
    "slideshow": {
     "slide_type": "fragment"
    }
   },
   "outputs": [],
   "source": [
    "expr"
   ]
  },
  {
   "cell_type": "code",
   "execution_count": null,
   "id": "7603a71d",
   "metadata": {
    "slideshow": {
     "slide_type": "fragment"
    }
   },
   "outputs": [],
   "source": [
    "expr.args[0]"
   ]
  },
  {
   "cell_type": "code",
   "execution_count": null,
   "id": "c8996ec8",
   "metadata": {
    "slideshow": {
     "slide_type": "fragment"
    }
   },
   "outputs": [],
   "source": [
    "expr.args[1].args[0] == x"
   ]
  },
  {
   "cell_type": "markdown",
   "id": "c86d1d3e",
   "metadata": {
    "slideshow": {
     "slide_type": "slide"
    }
   },
   "source": [
    "# Evaluating\n",
    "\n",
    "- `evalf` for one off numerical evaluation of an expression\n",
    "    - can take a dict of `Symbol : number` pairs\n",
    "- `lambdify` for efficient repeated evaluation of an expression\n",
    "    - replaces sympy functions like `sin`, `cos` with numpy equivalents"
   ]
  },
  {
   "cell_type": "code",
   "execution_count": null,
   "id": "c429a706",
   "metadata": {
    "slideshow": {
     "slide_type": "subslide"
    }
   },
   "outputs": [],
   "source": [
    "sp.sqrt(2)"
   ]
  },
  {
   "cell_type": "code",
   "execution_count": null,
   "id": "fed56108",
   "metadata": {
    "slideshow": {
     "slide_type": "fragment"
    }
   },
   "outputs": [],
   "source": [
    "sp.sqrt(2).evalf()"
   ]
  },
  {
   "cell_type": "code",
   "execution_count": null,
   "id": "d5e9bd05",
   "metadata": {
    "slideshow": {
     "slide_type": "fragment"
    }
   },
   "outputs": [],
   "source": [
    "expr = sp.sqrt(1 + x)"
   ]
  },
  {
   "cell_type": "code",
   "execution_count": null,
   "id": "0277a6a4",
   "metadata": {
    "slideshow": {
     "slide_type": "fragment"
    }
   },
   "outputs": [],
   "source": [
    "expr"
   ]
  },
  {
   "cell_type": "code",
   "execution_count": null,
   "id": "89ad6db0",
   "metadata": {
    "slideshow": {
     "slide_type": "fragment"
    }
   },
   "outputs": [],
   "source": [
    "expr.evalf(subs={x: 1})"
   ]
  },
  {
   "cell_type": "code",
   "execution_count": null,
   "id": "d0432975",
   "metadata": {
    "slideshow": {
     "slide_type": "subslide"
    }
   },
   "outputs": [],
   "source": [
    "f = sp.lambdify(x, expr)"
   ]
  },
  {
   "cell_type": "code",
   "execution_count": null,
   "id": "9548df3f",
   "metadata": {
    "slideshow": {
     "slide_type": "fragment"
    }
   },
   "outputs": [],
   "source": [
    "f(1)"
   ]
  },
  {
   "cell_type": "code",
   "execution_count": null,
   "id": "70d4b59d",
   "metadata": {
    "slideshow": {
     "slide_type": "fragment"
    }
   },
   "outputs": [],
   "source": [
    "import numpy as np\n",
    "\n",
    "a = np.array([1, 2, 3, 5.21])\n",
    "f(a)"
   ]
  },
  {
   "cell_type": "markdown",
   "id": "8f0656a9",
   "metadata": {
    "slideshow": {
     "slide_type": "slide"
    }
   },
   "source": [
    "# Simplification\n",
    "\n",
    "- `simplify` applies various simplifications to an expression\n",
    "- `expand` expands a polynomial to a sum of monomials\n",
    "- `factor` looks for common terms to factorize a polynomial\n",
    "- `collect` collects common powers of a term\n",
    "- as well as [many more](https://docs.sympy.org/latest/tutorial/simplification.html)\n"
   ]
  },
  {
   "cell_type": "code",
   "execution_count": null,
   "id": "9738a810",
   "metadata": {
    "slideshow": {
     "slide_type": "subslide"
    }
   },
   "outputs": [],
   "source": [
    "sp.cos(x) ** 2 + sp.sin(x) ** 2"
   ]
  },
  {
   "cell_type": "code",
   "execution_count": null,
   "id": "8ec87e65",
   "metadata": {
    "slideshow": {
     "slide_type": "fragment"
    }
   },
   "outputs": [],
   "source": [
    "sp.simplify(sp.cos(x) ** 2 + sp.sin(x) ** 2)"
   ]
  },
  {
   "cell_type": "code",
   "execution_count": null,
   "id": "6d5b1a7f",
   "metadata": {
    "slideshow": {
     "slide_type": "fragment"
    }
   },
   "outputs": [],
   "source": [
    "sp.gamma(x) / sp.gamma(x - 3)"
   ]
  },
  {
   "cell_type": "code",
   "execution_count": null,
   "id": "b9c45743",
   "metadata": {
    "slideshow": {
     "slide_type": "fragment"
    }
   },
   "outputs": [],
   "source": [
    "sp.simplify(sp.gamma(x) / sp.gamma(x - 3))"
   ]
  },
  {
   "cell_type": "code",
   "execution_count": null,
   "id": "a0a7eb65",
   "metadata": {
    "slideshow": {
     "slide_type": "subslide"
    }
   },
   "outputs": [],
   "source": [
    "(z + t) ** 2 * (x + 2 * y) ** 6"
   ]
  },
  {
   "cell_type": "code",
   "execution_count": null,
   "id": "4b6390b8",
   "metadata": {
    "slideshow": {
     "slide_type": "fragment"
    }
   },
   "outputs": [],
   "source": [
    "print(sp.expand((z + t) ** 2 * (x + 2 * y) ** 6))"
   ]
  },
  {
   "cell_type": "code",
   "execution_count": null,
   "id": "4676aaaa",
   "metadata": {
    "slideshow": {
     "slide_type": "subslide"
    }
   },
   "outputs": [],
   "source": [
    "sp.factor(\n",
    "    t**2 * x**6\n",
    "    + 12 * t**2 * x**5 * y\n",
    "    + 60 * t**2 * x**4 * y**2\n",
    "    + 160 * t**2 * x**3 * y**3\n",
    "    + 240 * t**2 * x**2 * y**4\n",
    "    + 192 * t**2 * x * y**5\n",
    "    + 64 * t**2 * y**6\n",
    "    + 2 * t * x**6 * z\n",
    "    + 24 * t * x**5 * y * z\n",
    "    + 120 * t * x**4 * y**2 * z\n",
    "    + 320 * t * x**3 * y**3 * z\n",
    "    + 480 * t * x**2 * y**4 * z\n",
    "    + 384 * t * x * y**5 * z\n",
    "    + 128 * t * y**6 * z\n",
    "    + x**6 * z**2\n",
    "    + 12 * x**5 * y * z**2\n",
    "    + 60 * x**4 * y**2 * z**2\n",
    "    + 160 * x**3 * y**3 * z**2\n",
    "    + 240 * x**2 * y**4 * z**2\n",
    "    + 192 * x * y**5 * z**2\n",
    "    + 64 * y**6 * z**2\n",
    ")"
   ]
  },
  {
   "cell_type": "markdown",
   "id": "bce482e1",
   "metadata": {
    "slideshow": {
     "slide_type": "slide"
    }
   },
   "source": [
    "# Differentiation\n",
    "\n",
    "- `sympy.diff` differentiates expressions\n",
    "  - `diff(f, x)` : $df/dx$\n",
    "  - `diff(f, x, 3)` : $d^3f/dx^3$\n",
    "  - `diff(f, x, y, z)` : $d^3f/dxdydz$"
   ]
  },
  {
   "cell_type": "code",
   "execution_count": null,
   "id": "184912d4",
   "metadata": {
    "slideshow": {
     "slide_type": "fragment"
    }
   },
   "outputs": [],
   "source": [
    "expr"
   ]
  },
  {
   "cell_type": "code",
   "execution_count": null,
   "id": "abf2f9f1",
   "metadata": {
    "slideshow": {
     "slide_type": "fragment"
    }
   },
   "outputs": [],
   "source": [
    "sp.diff(expr, x)"
   ]
  },
  {
   "cell_type": "markdown",
   "id": "b8be46ab",
   "metadata": {
    "slideshow": {
     "slide_type": "slide"
    }
   },
   "source": [
    "# Integration\n",
    "\n",
    "- `sympy.integrate` integrates expressions\n",
    "  - indefinite by default, without the integration constant\n",
    "  - definite if tuple of `(Symbol, lower_limit, upper_limit)` is provided"
   ]
  },
  {
   "cell_type": "code",
   "execution_count": null,
   "id": "0afb9539",
   "metadata": {
    "slideshow": {
     "slide_type": "fragment"
    }
   },
   "outputs": [],
   "source": [
    "expr"
   ]
  },
  {
   "cell_type": "code",
   "execution_count": null,
   "id": "d5ce63e7",
   "metadata": {
    "slideshow": {
     "slide_type": "fragment"
    }
   },
   "outputs": [],
   "source": [
    "sp.integrate(expr, x)"
   ]
  },
  {
   "cell_type": "code",
   "execution_count": null,
   "id": "8e925787",
   "metadata": {
    "slideshow": {
     "slide_type": "subslide"
    }
   },
   "outputs": [],
   "source": [
    "sp.integrate(expr, (x, 0, 1))"
   ]
  },
  {
   "cell_type": "code",
   "execution_count": null,
   "id": "20ed0112",
   "metadata": {
    "slideshow": {
     "slide_type": "fragment"
    }
   },
   "outputs": [],
   "source": [
    "sp.diff(sp.integrate(expr, x), x)"
   ]
  },
  {
   "cell_type": "markdown",
   "id": "70092278",
   "metadata": {
    "slideshow": {
     "slide_type": "slide"
    }
   },
   "source": [
    "# Limits\n",
    "\n",
    "- `sympy.limit` takes limit of expression at singular point"
   ]
  },
  {
   "cell_type": "code",
   "execution_count": null,
   "id": "76f24291",
   "metadata": {
    "slideshow": {
     "slide_type": "fragment"
    }
   },
   "outputs": [],
   "source": [
    "sinc = sp.sin(x) / x"
   ]
  },
  {
   "cell_type": "code",
   "execution_count": null,
   "id": "fd0ec2ff",
   "metadata": {
    "slideshow": {
     "slide_type": "fragment"
    }
   },
   "outputs": [],
   "source": [
    "sinc.subs(x, 0)"
   ]
  },
  {
   "cell_type": "code",
   "execution_count": null,
   "id": "819430c4",
   "metadata": {
    "slideshow": {
     "slide_type": "fragment"
    }
   },
   "outputs": [],
   "source": [
    "sinc.limit(x, 0)"
   ]
  },
  {
   "cell_type": "markdown",
   "id": "cfdaef27",
   "metadata": {
    "slideshow": {
     "slide_type": "slide"
    }
   },
   "source": [
    "# Series expansion\n",
    "\n",
    "- `sympy.series` expands an expression around a point"
   ]
  },
  {
   "cell_type": "code",
   "execution_count": null,
   "id": "c66361ac",
   "metadata": {
    "slideshow": {
     "slide_type": "fragment"
    }
   },
   "outputs": [],
   "source": [
    "sinc.series(x, 0, 10)"
   ]
  },
  {
   "cell_type": "markdown",
   "id": "9b7440bb",
   "metadata": {
    "slideshow": {
     "slide_type": "slide"
    }
   },
   "source": [
    "# SymEngine\n",
    "\n",
    "- Fast C++ implementation of (some of) SymPy"
   ]
  },
  {
   "cell_type": "code",
   "execution_count": null,
   "id": "a03b4305",
   "metadata": {
    "slideshow": {
     "slide_type": "fragment"
    }
   },
   "outputs": [],
   "source": [
    "expr = sp.cos(x + 7 * x**2) + sp.sin(x - 2 * x**3)"
   ]
  },
  {
   "cell_type": "code",
   "execution_count": null,
   "id": "fa26d817",
   "metadata": {
    "slideshow": {
     "slide_type": "fragment"
    }
   },
   "outputs": [],
   "source": [
    "%time _ = (sp.series(expr, n=100))"
   ]
  },
  {
   "cell_type": "code",
   "execution_count": null,
   "id": "605d0d51",
   "metadata": {
    "slideshow": {
     "slide_type": "fragment"
    }
   },
   "outputs": [],
   "source": [
    "if \"google.colab\" in str(get_ipython()):\n",
    "    !pip install symengine -qqq\n",
    "import symengine as se\n",
    "\n",
    "%time _ = se.series(expr, n=100)"
   ]
  },
  {
   "cell_type": "markdown",
   "id": "7ef3ce7c",
   "metadata": {
    "slideshow": {
     "slide_type": "slide"
    }
   },
   "source": [
    "# More at [docs.sympy.org](https://docs.sympy.org/)\n",
    "\n",
    "- Algebraic equation solving\n",
    "- Differential equation solving\n",
    "- Matrices\n",
    "- Assumptions\n",
    "- Printing\n",
    "- Code generation\n",
    "\n",
    "## [ssciwr.github.io/lunch-time-python](https://ssciwr.github.io/lunch-time-python/)"
   ]
  }
 ],
 "metadata": {
  "celltoolbar": "Slideshow",
  "kernelspec": {
   "display_name": "Python 3 (ipykernel)",
   "language": "python",
   "name": "python3"
  },
  "language_info": {
   "codemirror_mode": {
    "name": "ipython",
    "version": 3
   },
   "file_extension": ".py",
   "mimetype": "text/x-python",
   "name": "python",
   "nbconvert_exporter": "python",
   "pygments_lexer": "ipython3",
   "version": "3.9.4"
  }
 },
 "nbformat": 4,
 "nbformat_minor": 5
}
